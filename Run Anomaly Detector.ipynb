{
  "cells": [
    {
      "cell_type": "code",
      "source": [
        "from pyspark.sql.functions import lit\n",
        "\n",
        "df = spark.createDataFrame([\n",
        "    (\"1972-01-01T00:00:00Z\", 826.0),\n",
        "    (\"1972-02-01T00:00:00Z\", 799.0),\n",
        "    (\"1972-03-01T00:00:00Z\", 890.0),\n",
        "    (\"1972-04-01T00:00:00Z\", 900.0),\n",
        "    (\"1972-05-01T00:00:00Z\", 766.0),\n",
        "    (\"1972-06-01T00:00:00Z\", 805.0),\n",
        "    (\"1972-07-01T00:00:00Z\", 821.0),\n",
        "    (\"1972-08-01T00:00:00Z\", 20000.0),\n",
        "    (\"1972-09-01T00:00:00Z\", 883.0),\n",
        "    (\"1972-10-01T00:00:00Z\", 898.0),\n",
        "    (\"1972-11-01T00:00:00Z\", 957.0),\n",
        "    (\"1972-12-01T00:00:00Z\", 924.0),\n",
        "    (\"1973-01-01T00:00:00Z\", 881.0),\n",
        "    (\"1973-02-01T00:00:00Z\", 837.0),\n",
        "    (\"1973-03-01T00:00:00Z\", 9000.0)\n",
        "], [\"timestamp\", \"value\"]).withColumn(\"group\", lit(\"series1\"))"
      ],
      "outputs": [
        {
          "output_type": "display_data",
          "data": {
            "application/vnd.livy.statement-meta+json": {
              "spark_pool": "arm6766",
              "session_id": 0,
              "statement_id": 1,
              "state": "finished",
              "livy_statement_state": "available",
              "queued_time": "2022-02-28T14:52:27.5485184Z",
              "session_start_time": "2022-02-28T14:52:27.6136662Z",
              "execution_start_time": "2022-02-28T14:54:41.6181244Z",
              "execution_finish_time": "2022-02-28T14:54:44.3893847Z"
            },
            "text/plain": "StatementMeta(arm6766, 0, 1, Finished, Available)"
          },
          "metadata": {}
        }
      ],
      "execution_count": 1,
      "metadata": {}
    },
    {
      "cell_type": "code",
      "source": [
        "df.write.mode(\"overwrite\").saveAsTable(\"anomaly_detector_testing_data\")"
      ],
      "outputs": [
        {
          "output_type": "display_data",
          "data": {
            "application/vnd.livy.statement-meta+json": {
              "spark_pool": "arm6766",
              "session_id": 0,
              "statement_id": 3,
              "state": "finished",
              "livy_statement_state": "available",
              "queued_time": "2022-02-28T14:58:11.3152038Z",
              "session_start_time": null,
              "execution_start_time": "2022-02-28T14:58:11.5126633Z",
              "execution_finish_time": "2022-02-28T14:58:23.9805564Z"
            },
            "text/plain": "StatementMeta(arm6766, 0, 3, Finished, Available)"
          },
          "metadata": {}
        }
      ],
      "execution_count": 3,
      "metadata": {}
    }
  ],
  "metadata": {
    "kernelspec": {
      "name": "synapse_pyspark",
      "language": "Python",
      "display_name": "Synapse PySpark"
    },
    "language_info": {
      "name": "python"
    },
    "kernel_info": {
      "name": "synapse_pyspark"
    },
    "description": null,
    "save_output": true,
    "synapse_widget": {
      "version": "0.1",
      "state": {}
    }
  },
  "nbformat": 4,
  "nbformat_minor": 2
}
