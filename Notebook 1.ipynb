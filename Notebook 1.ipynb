{
  "cells": [
    {
      "cell_type": "code",
      "source": [
        "from mmlspark.cognitive import *\n",
        "from notebookutils import mssparkutils\n",
        "\n",
        "\n",
        "# Load the data into a Spark DataFrame\n",
        "df = spark.sql(\"SELECT * FROM default.anomaly_detector_testing_data\")\n",
        "\n",
        "anomalyDetector = (SimpleDetectAnomalies()\n",
        "    .setLinkedService(\"CognitiveService1\")\n",
        "    .setOutputCol(\"output\")\n",
        "    .setErrorCol(\"error\")\n",
        "    .setGranularity(\"monthly\")\n",
        "    .setTimestampCol(\"timestamp\")\n",
        "    .setValueCol(\"value\")\n",
        "    .setGroupbyCol(\"group\"))\n",
        "\n",
        "results = anomalyDetector.transform(df)\n",
        "\n",
        "# Show the results\n",
        "display(results.select(\"timestamp\", \"value\", \"group\", \"output.*\", \"error\").limit(10))"
      ],
      "outputs": [
        {
          "output_type": "display_data",
          "data": {
            "application/vnd.livy.statement-meta+json": {
              "spark_pool": "arm6766",
              "session_id": 1,
              "statement_id": 1,
              "state": "finished",
              "livy_statement_state": "available",
              "queued_time": "2022-02-28T15:33:24.1483588Z",
              "session_start_time": "2022-02-28T15:33:24.1776487Z",
              "execution_start_time": "2022-02-28T15:34:01.82219Z",
              "execution_finish_time": "2022-02-28T15:34:43.9068254Z"
            },
            "text/plain": "StatementMeta(arm6766, 1, 1, Finished, Available)"
          },
          "metadata": {}
        },
        {
          "output_type": "display_data",
          "data": {
            "application/vnd.synapse.widget-view+json": {
              "widget_id": "ffbc5f91-96a7-4bb9-855f-76f158fad4ba",
              "widget_type": "Synapse.DataFrame"
            },
            "text/plain": "SynapseWidget(Synapse.DataFrame, ffbc5f91-96a7-4bb9-855f-76f158fad4ba)"
          },
          "metadata": {}
        }
      ],
      "execution_count": 1,
      "metadata": {
        "collapsed": false
      }
    }
  ],
  "metadata": {
    "language_info": {
      "name": "python"
    },
    "kernelspec": {
      "name": "synapse_pyspark",
      "language": "Python",
      "display_name": "Synapse PySpark"
    },
    "kernel_info": {
      "name": "synapse_pyspark"
    },
    "save_output": true,
    "synapse_widget": {
      "version": "0.1",
      "state": {
        "ffbc5f91-96a7-4bb9-855f-76f158fad4ba": {
          "type": "Synapse.DataFrame",
          "sync_state": {
            "table": {
              "rows": [
                {
                  "0": "1972-01-01T00:00:00Z",
                  "1": "826.0",
                  "2": "series1",
                  "3": "false",
                  "4": "false",
                  "5": "false",
                  "6": "0",
                  "7": "839.8037249928111",
                  "8": "13.941762242739223",
                  "9": "13.941762242739223"
                },
                {
                  "0": "1972-02-01T00:00:00Z",
                  "1": "799.0",
                  "2": "series1",
                  "3": "false",
                  "4": "false",
                  "5": "false",
                  "6": "0",
                  "7": "837.3507700954189",
                  "8": "38.73427779637304",
                  "9": "38.73427779637304"
                },
                {
                  "0": "1972-03-01T00:00:00Z",
                  "1": "890.0",
                  "2": "series1",
                  "3": "false",
                  "4": "false",
                  "5": "false",
                  "6": "0",
                  "7": "834.8978151980266",
                  "8": "55.653206649993145",
                  "9": "55.653206649993145"
                },
                {
                  "0": "1972-04-01T00:00:00Z",
                  "1": "900.0",
                  "2": "series1",
                  "3": "false",
                  "4": "false",
                  "5": "false",
                  "6": "0",
                  "7": "832.4448603006343",
                  "8": "68.23069109635932",
                  "9": "68.23069109635932"
                },
                {
                  "0": "1972-05-01T00:00:00Z",
                  "1": "766.0",
                  "2": "series1",
                  "3": "false",
                  "4": "false",
                  "5": "false",
                  "6": "0",
                  "7": "812.6636801151691",
                  "8": "47.13031691632078",
                  "9": "47.13031691632078"
                },
                {
                  "0": "1972-06-01T00:00:00Z",
                  "1": "805.0",
                  "2": "series1",
                  "3": "false",
                  "4": "false",
                  "5": "false",
                  "6": "0",
                  "7": "814.55985377689",
                  "8": "9.655452314658909",
                  "9": "9.655452314658909"
                },
                {
                  "0": "1972-07-01T00:00:00Z",
                  "1": "821.0",
                  "2": "series1",
                  "3": "false",
                  "4": "false",
                  "5": "false",
                  "6": "0",
                  "7": "831.4793189027447",
                  "8": "10.584112091772141",
                  "9": "10.584112091772141"
                },
                {
                  "0": "1972-08-01T00:00:00Z",
                  "1": "20000.0",
                  "2": "series1",
                  "3": "true",
                  "4": "true",
                  "5": "false",
                  "6": "0",
                  "7": "855.8914357169447",
                  "8": "8.558914357169442",
                  "9": "8.558914357169442"
                },
                {
                  "0": "1972-09-01T00:00:00Z",
                  "1": "883.0",
                  "2": "series1",
                  "3": "false",
                  "4": "false",
                  "5": "false",
                  "6": "0",
                  "7": "880.8749128917688",
                  "8": "8.808749128917725",
                  "9": "8.808749128917725"
                },
                {
                  "0": "1972-10-01T00:00:00Z",
                  "1": "898.0",
                  "2": "series1",
                  "3": "false",
                  "4": "false",
                  "5": "false",
                  "6": "0",
                  "7": "901.9458528917621",
                  "8": "9.019458528917653",
                  "9": "9.019458528917653"
                }
              ],
              "schema": [
                {
                  "key": "0",
                  "name": "timestamp",
                  "type": "string"
                },
                {
                  "key": "1",
                  "name": "value",
                  "type": "double"
                },
                {
                  "key": "2",
                  "name": "group",
                  "type": "string"
                },
                {
                  "key": "3",
                  "name": "isAnomaly",
                  "type": "boolean"
                },
                {
                  "key": "4",
                  "name": "isPositiveAnomaly",
                  "type": "boolean"
                },
                {
                  "key": "5",
                  "name": "isNegativeAnomaly",
                  "type": "boolean"
                },
                {
                  "key": "6",
                  "name": "period",
                  "type": "int"
                },
                {
                  "key": "7",
                  "name": "expectedValue",
                  "type": "double"
                },
                {
                  "key": "8",
                  "name": "upperMargin",
                  "type": "double"
                },
                {
                  "key": "9",
                  "name": "lowerMargin",
                  "type": "double"
                },
                {
                  "key": "10",
                  "name": "error",
                  "type": "StructType(StructField(response,StringType,true), StructField(status,StructType(StructField(protocolVersion,StructType(StructField(protocol,StringType,true), StructField(major,IntegerType,false), StructField(minor,IntegerType,false)),true), StructField(statusCode,IntegerType,false), StructField(reasonPhrase,StringType,true)),true))"
                }
              ],
              "truncated": false
            },
            "isSummary": false,
            "language": "scala"
          },
          "persist_state": {
            "view": {
              "type": "details",
              "tableOptions": {},
              "chartOptions": {
                "chartType": "bar",
                "aggregationType": "sum",
                "categoryFieldKeys": [
                  "0"
                ],
                "seriesFieldKeys": [
                  "1"
                ],
                "isStacked": false
              }
            }
          }
        }
      }
    }
  },
  "nbformat": 4,
  "nbformat_minor": 2
}